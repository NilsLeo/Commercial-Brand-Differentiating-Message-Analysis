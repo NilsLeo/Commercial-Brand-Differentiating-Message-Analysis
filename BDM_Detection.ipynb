{
 "cells": [
  {
   "cell_type": "markdown",
   "metadata": {},
   "source": [
    "# Detecting BDM In Superbowl Commercials"
   ]
  },
  {
   "cell_type": "code",
   "execution_count": 45,
   "metadata": {
    "execution": {
     "iopub.execute_input": "2024-11-25T16:54:59.389468Z",
     "iopub.status.busy": "2024-11-25T16:54:59.389384Z",
     "iopub.status.idle": "2024-11-25T16:54:59.556178Z",
     "shell.execute_reply": "2024-11-25T16:54:59.555869Z"
    }
   },
   "outputs": [],
   "source": [
    "import pandas as pd\n",
    "import os"
   ]
  },
  {
   "cell_type": "code",
   "execution_count": null,
   "metadata": {},
   "outputs": [],
   "source": [
    "\n",
    "%pip install -r requirements.txt"
   ]
  },
  {
   "cell_type": "code",
   "execution_count": 1,
   "metadata": {},
   "outputs": [],
   "source": [
    "INDUSTRY_SPECIFIC_AWARENESS = False\n",
    "BRAND_SPECIFIC_AWARENESS = False"
   ]
  },
  {
   "cell_type": "markdown",
   "metadata": {},
   "source": [
    "# Donwload Ads\n"
   ]
  },
  {
   "cell_type": "code",
   "execution_count": null,
   "metadata": {},
   "outputs": [],
   "source": [
    "# Define the URL and the target directory\n",
    "url = 'https://box.fu-berlin.de/s/zwxKp8PXkCwAwGe/download'\n",
    "download_filename = 'downloaded_archive.zip'\n",
    "target_directory = 'ADs'\n",
    "\n",
    "# Step 1: Download the file\n",
    "os.system(f'wget -O {download_filename} {url}')\n",
    "\n",
    "# Step 2: Create the target directory if it doesn't exist\n",
    "os.makedirs(target_directory, exist_ok=True)\n",
    "\n",
    "# Step 3: Extract the downloaded archive to the target directory\n",
    "os.system(f'unzip -o {download_filename} -d {target_directory}')\n",
    "\n",
    "# Step 4: Remove the downloaded file\n",
    "os.remove(download_filename)\n",
    "\n",
    "print(f\"Archive extracted to {target_directory} and {download_filename} removed.\")"
   ]
  },
  {
   "cell_type": "markdown",
   "metadata": {},
   "source": [
    "# Merge Excel Files"
   ]
  },
  {
   "cell_type": "code",
   "execution_count": 3,
   "metadata": {},
   "outputs": [],
   "source": [
    "BDM_excel = pd.read_excel('BDM.xlsx')\n",
    "final_excel = pd.read_excel('previous_project_results.xlsx')"
   ]
  },
  {
   "cell_type": "code",
   "execution_count": null,
   "metadata": {},
   "outputs": [],
   "source": [
    "final_excel = final_excel.merge(\n",
    "    BDM_excel[['AdNumber', 'BDM']], \n",
    "    on='AdNumber', \n",
    "    how='left',\n",
    "    suffixes=('_old', '')\n",
    ").drop('BDM_old', axis=1, errors='ignore')\n",
    "\n",
    "\n",
    "# print number of rows where BDM is NaN, 0 and 1\n",
    "print(f\"Number of rows where BDM is NaN: {final_excel[final_excel['BDM'].isna()].shape[0]}\")\n",
    "print(f\"Number of rows where BDM is 0: {final_excel[final_excel['BDM'] == 0].shape[0]}\")\n",
    "print(f\"Number of rows where BDM is 1: {final_excel[final_excel['BDM'] == 1].shape[0]}\")\n"
   ]
  },
  {
   "cell_type": "code",
   "execution_count": null,
   "metadata": {
    "execution": {
     "iopub.execute_input": "2024-11-25T16:54:59.848002Z",
     "iopub.status.busy": "2024-11-25T16:54:59.847732Z",
     "iopub.status.idle": "2024-11-25T16:54:59.853603Z",
     "shell.execute_reply": "2024-11-25T16:54:59.853387Z"
    }
   },
   "outputs": [],
   "source": [
    "ad_df = final_excel.groupby(['cont_primary_product_type', 'BRAND', 'AdNumber', \"BDM\"]).size().reset_index(name='count')\n",
    "ad_df.rename(columns={'cont_primary_product_type': 'product_category', 'BRAND': 'brand', 'AdNumber': 'commercial_number'}, inplace=True)\n",
    "ad_df.drop(columns=['count'], inplace=True)\n",
    "ad_df.head(10)"
   ]
  },
  {
   "cell_type": "markdown",
   "metadata": {},
   "source": [
    "### Brand Keywords"
   ]
  },
  {
   "cell_type": "code",
   "execution_count": 52,
   "metadata": {},
   "outputs": [],
   "source": [
    "if BRAND_SPECIFIC_AWARENESS:\n",
    "    product_brand_df = pd.read_csv(\"product_brands.csv\")\n",
    "\n",
    "    product_brand_df['brand'] = product_brand_df['brand'].str.replace(' ', '').str.lower()\n",
    "    ad_df['brand_clean'] = ad_df['brand'].str.replace(' ', '').str.lower()\n",
    "\n",
    "    # Merge the dataframes\n",
    "    ad_df = ad_df.merge(\n",
    "        product_brand_df[['brand', 'product_brand_keywords']], \n",
    "        left_on='brand_clean',\n",
    "        right_on='brand',\n",
    "        how='left',\n",
    "        suffixes=('', '_brand')\n",
    "    )\n",
    "\n",
    "    # Clean up columns\n",
    "    ad_df.drop(['brand_clean', 'brand_brand'], axis=1, inplace=True)\n",
    "\n",
    "\n",
    "    ad_df.head(10)"
   ]
  },
  {
   "cell_type": "markdown",
   "metadata": {},
   "source": [
    "### Product Category Keywords"
   ]
  },
  {
   "cell_type": "code",
   "execution_count": 53,
   "metadata": {},
   "outputs": [],
   "source": [
    "if INDUSTRY_SPECIFIC_AWARENESS:\n",
    "    product_brands_df = pd.read_csv(\"product_categories.csv\")\n",
    "    product_brands_df.head(40)\n",
    "    product_brands_df = product_brands_df.drop('product_cat_id', axis=1)\n",
    "    ad_df = ad_df.drop('product_category', axis=1)\n",
    "    display(product_brands_df)\n",
    "    display(ad_df)\n",
    "\n",
    "    # Create a dictionary to map brands to their product categories and other attributes\n",
    "    brand_to_info = {}\n",
    "    for _, row in product_brands_df.iterrows():\n",
    "        # Convert string representation of list to actual list\n",
    "        brands = eval(row['product_cat_brands'])\n",
    "        for brand in brands:\n",
    "            # Remove spaces and convert to lowercase for more robust matching\n",
    "            brand = brand.replace(' ', '').lower()\n",
    "            # Store all columns for this brand\n",
    "            brand_to_info[brand] = {col: row[col] for col in product_brands_df.columns}\n",
    "\n",
    "    # Function to find category info for a brand\n",
    "    def find_brand_info(brand):\n",
    "        # Clean brand name for matching\n",
    "        clean_brand = brand.replace(' ', '').lower()\n",
    "        return brand_to_info.get(clean_brand)\n",
    "\n",
    "    # Add all product category columns to ad_df\n",
    "    for col in product_brands_df.columns:\n",
    "        ad_df[col] = ad_df['brand'].apply(lambda x: find_brand_info(x)[col] if find_brand_info(x) else None)\n",
    "\n",
    "    # Print brands that couldn't be mapped\n",
    "    unmapped_brands = ad_df[ad_df['product_cat_name'].isna()]['brand'].unique()\n",
    "    if len(unmapped_brands) > 0:\n",
    "        print(\"Brands without category mapping:\")\n",
    "        for brand in unmapped_brands:\n",
    "            print(f\"- {brand}\")\n",
    "\n",
    "    # Print number of rows with missing category\n",
    "    print(f\"Number of rows where product category is NaN: {ad_df[ad_df['product_cat_name'].isna()].shape[0]}\")\n",
    "\n",
    "\n",
    "    print(f\"Final number of rows with missing categories: {ad_df[ad_df['product_cat_name'].isna()].shape[0]}\")\n",
    "\n",
    "    ad_df.head(10)"
   ]
  },
  {
   "cell_type": "code",
   "execution_count": null,
   "metadata": {},
   "outputs": [],
   "source": [
    "ad_df = ad_df.dropna()\n",
    "# TODO: Implement proper handling of missing values\n",
    "# TODO: Remove this line\n",
    "ad_df = ad_df.head(5)\n",
    "display(ad_df)\n",
    "\n",
    "# save progress so far to csv\n",
    "ad_df.to_csv('csvs/1_ad_df_baseline.csv', index=False)"
   ]
  },
  {
   "cell_type": "markdown",
   "metadata": {},
   "source": [
    "## Retrieving Transcript"
   ]
  },
  {
   "cell_type": "code",
   "execution_count": 55,
   "metadata": {},
   "outputs": [],
   "source": [
    "ad_df = pd.read_csv('csvs/1_ad_df_baseline.csv')"
   ]
  },
  {
   "cell_type": "code",
   "execution_count": null,
   "metadata": {},
   "outputs": [],
   "source": [
    "import glob\n",
    "from pathlib import Path\n",
    "from transcript import transcribe_video\n",
    "\n",
    "ads_dir = \"ADs\"\n",
    "\n",
    "def find_video_file(commercial_number, ads_dir):\n",
    "    \"\"\"Find the video file path for a given commercial number.\"\"\"\n",
    "    # Search recursively for MP4 files\n",
    "    pattern = f\"{ads_dir}/**/{commercial_number}.mp4\"\n",
    "    matches = glob.glob(pattern, recursive=True)\n",
    "    return matches[0] if matches else None\n",
    "\n",
    "# Create transcript column\n",
    "ad_df['transcript'] = ''\n",
    "\n",
    "# Process each commercial\n",
    "for idx, row in ad_df.iterrows():\n",
    "    commercial_number = row['commercial_number']\n",
    "    video_path = find_video_file(commercial_number, ads_dir)\n",
    "    \n",
    "    if video_path:\n",
    "        transcript = transcribe_video(video_path)\n",
    "        ad_df.at[idx, 'transcript'] = transcript\n",
    "    else:\n",
    "        print(f\"Video not found for commercial {commercial_number}\")\n",
    "\n",
    "ad_df[ad_df['transcript'].notna()]\n",
    "ad_df[\"audio_only_transcript\"] = ad_df[\"transcript\"]\n",
    "ad_df.head(10)"
   ]
  },
  {
   "cell_type": "code",
   "execution_count": 57,
   "metadata": {},
   "outputs": [],
   "source": [
    "\n",
    "ad_df.to_csv('csvs/2_ad_df_transcript.csv', index=False)"
   ]
  },
  {
   "cell_type": "markdown",
   "metadata": {},
   "source": [
    "## Adding OCR Text"
   ]
  },
  {
   "cell_type": "code",
   "execution_count": 58,
   "metadata": {},
   "outputs": [],
   "source": [
    "ad_df = pd.read_csv('csvs/2_ad_df_transcript.csv')"
   ]
  },
  {
   "cell_type": "code",
   "execution_count": 59,
   "metadata": {},
   "outputs": [],
   "source": [
    "\n",
    "# from ocr import ocr"
   ]
  },
  {
   "cell_type": "code",
   "execution_count": 60,
   "metadata": {},
   "outputs": [],
   "source": [
    "\n",
    "\n",
    "ad_df['ocr_text'] = ''\n",
    "\n",
    "ad_df.drop(columns=['ocr_text'], inplace=True)\n",
    "for idx, row in ad_df.iterrows():\n",
    "    transcript = row['transcript']\n",
    "\n",
    "    ad_df.at[idx, 'ocr_text'] = 'NOT IMPLEMENTED YET'\n",
    "    # TODO Uncomment the line below to run OCR on the transcript\n",
    "    # ad_df.at[idx, 'ocr_text'] = ocr(transcript)\n",
    "\n",
    "ad_df[\"audio_only_transcript\"] = ad_df[\"transcript\"]\n",
    "ad_df['transcript'] = ad_df['ocr_text'] + ' ' + ad_df['transcript']\n",
    "ad_df.head(10)\n",
    "\n",
    "\n",
    "ad_df.to_csv('csvs/3_ad_df_ocr.csv', index=False)\n"
   ]
  },
  {
   "cell_type": "code",
   "execution_count": null,
   "metadata": {},
   "outputs": [],
   "source": [
    "!python -m spacy download en_core_web_sm\n"
   ]
  },
  {
   "cell_type": "markdown",
   "metadata": {},
   "source": [
    "# Determining Frequency of Superlatives and Comparative Adjectives"
   ]
  },
  {
   "cell_type": "code",
   "execution_count": 62,
   "metadata": {},
   "outputs": [],
   "source": [
    "\n",
    "ad_df = pd.read_csv('csvs/3_ad_df_ocr.csv')"
   ]
  },
  {
   "cell_type": "code",
   "execution_count": null,
   "metadata": {},
   "outputs": [],
   "source": [
    "import spacy\n",
    "import pandas as pd\n",
    "from collections import Counter\n",
    "import text_analysis as ta\n",
    "\n",
    "# Create new columns to store the counts and percentages\n",
    "ad_df['word_count'] = 0\n",
    "ad_df['superlative_count'] = 0\n",
    "ad_df['comparative_count'] = 0\n",
    "ad_df['uniqueness_count'] = 0\n",
    "ad_df['superlative_pct'] = 0.0\n",
    "ad_df['comparative_pct'] = 0.0\n",
    "ad_df['uniqueness_pct'] = 0.0\n",
    "ad_df['total_bdm_terms_count'] = 0\n",
    "ad_df['total_bdm_terms_pct'] = 0.0\n",
    "\n",
    "# Process each row\n",
    "for idx, row in ad_df.iterrows():\n",
    "    word_count = len(ta.get_tokens(row['transcript']))\n",
    "    ad_df.at[idx, 'word_count'] = word_count\n",
    "\n",
    "    superlatives = ta.get_superlatives(row['transcript'])\n",
    "    ad_df.at[idx, 'superlatives'] = ', '.join(superlatives) if superlatives else ''\n",
    "    superlative_count = len(superlatives) if superlatives else 0\n",
    "    ad_df.at[idx, 'superlative_count'] = superlative_count\n",
    "\n",
    "    comparatives = ta.get_comparatives(row['transcript'])\n",
    "    ad_df.at[idx, 'comparatives'] = ', '.join(comparatives) if comparatives else ''\n",
    "    comparative_count = len(comparatives) if comparatives else 0\n",
    "    ad_df.at[idx, 'comparative_count'] = comparative_count\n",
    "    \n",
    "    unique_words = ta.get_unique_words(row['transcript'])\n",
    "    ad_df.at[idx, 'unique_words'] = ', '.join(unique_words) if unique_words else ''\n",
    "    uniqueness_count = len(unique_words) if unique_words else 0\n",
    "    ad_df.at[idx, 'uniqueness_count'] = uniqueness_count\n",
    "\n",
    "    if word_count > 0:\n",
    "        ad_df.at[idx, 'superlative_pct'] = superlative_count / word_count * 100\n",
    "        ad_df.at[idx, 'comparative_pct'] = comparative_count / word_count * 100\n",
    "        ad_df.at[idx, 'uniqueness_pct'] = uniqueness_count / word_count * 100\n",
    "        \n",
    "        total_bdm_terms = superlative_count + comparative_count + uniqueness_count\n",
    "        ad_df.at[idx, 'total_bdm_terms_count'] = total_bdm_terms\n",
    "        ad_df.at[idx, 'total_bdm_terms_pct'] = total_bdm_terms / word_count * 100\n",
    "\n",
    "# Sort the DataFrame\n",
    "ad_df = ad_df.sort_values(\n",
    "    by=['superlative_count', 'comparative_count', 'superlative_pct', 'comparative_pct', 'uniqueness_pct'],\n",
    "    ascending=[False, False, False, False, False]\n",
    ")\n",
    "\n",
    "# Display top 10 results\n",
    "ad_df.head(10)"
   ]
  },
  {
   "cell_type": "code",
   "execution_count": null,
   "metadata": {},
   "outputs": [],
   "source": [
    "# remove superlatives, comparatives and unique_words from ad_df\n",
    "ad_df.drop(columns=['comparative_pct', 'superlative_pct', 'uniqueness_pct'], inplace=True)\n",
    "ad_df.head(10)\n"
   ]
  },
  {
   "cell_type": "markdown",
   "metadata": {},
   "source": [
    "## Nomen + Adjektive"
   ]
  },
  {
   "cell_type": "code",
   "execution_count": null,
   "metadata": {},
   "outputs": [],
   "source": [
    "# Apply the function to each transcript individually using pandas apply\n",
    "ad_df[\"adj_noun_pairs\"] = ad_df[\"transcript\"].apply(ta.extract_adj_noun_pairs)\n",
    "\n",
    "# Add a column for the number of adjective-noun pairs\n",
    "ad_df[\"num_adj_noun_pairs\"] = ad_df[\"adj_noun_pairs\"].apply(len)\n",
    "\n",
    "# Display the first 10 rows of the DataFrame\n",
    "display(ad_df.head(10))"
   ]
  },
  {
   "cell_type": "code",
   "execution_count": null,
   "metadata": {
    "execution": {
     "iopub.execute_input": "2024-11-25T16:54:59.890511Z",
     "iopub.status.busy": "2024-11-25T16:54:59.890442Z",
     "iopub.status.idle": "2024-11-25T16:55:01.157765Z",
     "shell.execute_reply": "2024-11-25T16:55:01.157371Z"
    }
   },
   "outputs": [],
   "source": [
    "import nltk\n",
    "from nltk.tokenize import word_tokenize\n",
    "from nltk.corpus import stopwords\n",
    "from nltk.probability import FreqDist\n",
    "from collections import defaultdict\n",
    "\n",
    "nltk.download('all')\n"
   ]
  },
  {
   "cell_type": "code",
   "execution_count": 67,
   "metadata": {
    "execution": {
     "iopub.execute_input": "2024-11-25T16:55:01.309804Z",
     "iopub.status.busy": "2024-11-25T16:55:01.309730Z",
     "iopub.status.idle": "2024-11-25T16:55:09.727108Z",
     "shell.execute_reply": "2024-11-25T16:55:09.726758Z"
    }
   },
   "outputs": [],
   "source": [
    "# Process each transcript\n",
    "import numpy as np\n",
    "if INDUSTRY_SPECIFIC_AWARENESS:\n",
    "    for idx, row in ad_df.iterrows():\n",
    "        transcript = row['transcript']\n",
    "        product_cat_keyword_similarities = {}\n",
    "        for keyword in row['product_cat_keywords'][1:-1].replace(\"'\", \"\").split(\", \"):\n",
    "            similarity = round(float(ta.get_semantic_similarity(transcript, keyword)), 3)\n",
    "            product_cat_keyword_similarities[keyword] = similarity\n",
    "        \n",
    "        sorted_keywords = sorted(product_cat_keyword_similarities.items(), key=lambda x: x[1], reverse=True)\n",
    "        top_3_keywords = sorted_keywords[:3]\n",
    "        top_3_average = round(float(np.mean([sim for _, sim in top_3_keywords])), 3)\n",
    "        \n",
    "        print(f\"\\nTranscript {row['commercial_number']}:\")\n",
    "        print(f\"Top 3 keywords:\")\n",
    "        for keyword, similarity in top_3_keywords:\n",
    "            print(f\"- {keyword}: {similarity}\")\n",
    "        print(f\"Top 3 average similarity: {top_3_average}\")\n",
    "        \n",
    "        ad_df.at[idx, 'product_cat_keyword_similarity'] = top_3_average\n",
    "        ad_df.at[idx, 'product_cat_top_keywords'] = ', '.join([keyword for keyword, _ in top_3_keywords])\n",
    "if BRAND_SPECIFIC_AWARENESS:\n",
    "    for idx, row in ad_df.iterrows():\n",
    "        transcript = row['transcript']\n",
    "        product_brand_keyword_similarities = {}\n",
    "        \n",
    "        for keyword in row['product_brand_keywords'][1:-1].replace(\"'\", \"\").split(\", \"):\n",
    "            similarity = round(float(ta.get_semantic_similarity(transcript, keyword)), 3)\n",
    "            product_brand_keyword_similarities[keyword] = similarity\n",
    "        \n",
    "        sorted_keywords = sorted(product_brand_keyword_similarities.items(), key=lambda x: x[1], reverse=True)\n",
    "        top_3_keywords = sorted_keywords[:3]\n",
    "        top_3_average = round(float(np.mean([sim for _, sim in top_3_keywords])), 3)\n",
    "        \n",
    "        print(f\"\\nTranscript {row['commercial_number']}:\")\n",
    "        print(f\"Top 3 brand keywords:\")\n",
    "        for keyword, similarity in top_3_keywords:\n",
    "            print(f\"- {keyword}: {similarity}\")\n",
    "        print(f\"Top 3 average brand similarity: {top_3_average}\")\n",
    "        \n",
    "        ad_df.at[idx, 'product_brand_keyword_similarity'] = top_3_average\n",
    "        ad_df.at[idx, 'product_brand_top_keywords'] = ', '.join([keyword for keyword, _ in top_3_keywords])"
   ]
  },
  {
   "cell_type": "code",
   "execution_count": 68,
   "metadata": {},
   "outputs": [],
   "source": [
    "\n",
    "ad_df.to_csv('csvs/4_ad_df_keywords.csv', index=False)"
   ]
  },
  {
   "cell_type": "code",
   "execution_count": 69,
   "metadata": {},
   "outputs": [],
   "source": [
    "import pandas as pd\n",
    "ad_df = pd.read_csv('csvs/4_ad_df_keywords.csv')"
   ]
  },
  {
   "cell_type": "code",
   "execution_count": null,
   "metadata": {},
   "outputs": [],
   "source": [
    "\n",
    "\n",
    "ad_df[ad_df.isnull().any(axis=1)].head()\n",
    "ad_df[ad_df.isna().any(axis=1)].head()\n",
    "\n",
    "ad_df = ad_df[ad_df['transcript'] != '']\n",
    "ad_df = ad_df[ad_df['transcript'] != '']\n",
    "\n",
    "# print all from ad_df with empty values\n",
    "display(ad_df[ad_df.isnull().any(axis=1)])\n",
    "display(ad_df[ad_df.isna().any(axis=1)])"
   ]
  },
  {
   "cell_type": "code",
   "execution_count": null,
   "metadata": {},
   "outputs": [],
   "source": [
    "ad_df.head(20)"
   ]
  },
  {
   "cell_type": "code",
   "execution_count": null,
   "metadata": {},
   "outputs": [],
   "source": [
    "# Calculate the minimum number of samples in each group\n",
    "# \n",
    "min_samples = min(len(ad_df[ad_df['BDM'] == 1]), len(ad_df[ad_df['BDM'] == 0]))\n",
    "nn_df = ad_df\n",
    "# Perform undersampling\n",
    "ad_df_balanced = pd.concat([\n",
    "    ad_df[ad_df['BDM'] == 1].sample(n=min_samples, random_state=42),\n",
    "    ad_df[ad_df['BDM'] == 0].sample(n=min_samples, random_state=42)\n",
    "]).reset_index(drop=True)\n",
    "\n",
    "# Print the results\n",
    "print(f\"Total rows: {len(ad_df_balanced)}\")\n",
    "print(f\"Rows with BDM = 1.0: {len(ad_df_balanced[ad_df_balanced['BDM'] == 1.0])}\")\n",
    "print(f\"Rows with BDM = 0.0: {len(ad_df_balanced[ad_df_balanced['BDM'] == 0.0])}\")\n",
    "\n",
    "\n",
    "\n",
    "commercial_numbers = ad_df_balanced['commercial_number']\n",
    "\n",
    "# TODO: remove the following line after testing\n",
    "ad_df_balanced = ad_df\n",
    "\n",
    "ad_df_balanced.head(20)"
   ]
  },
  {
   "cell_type": "markdown",
   "metadata": {},
   "source": [
    "## Ansatz 1 (Machine learning)"
   ]
  },
  {
   "cell_type": "code",
   "execution_count": null,
   "metadata": {},
   "outputs": [],
   "source": [
    "# Print available columns\n",
    "print(\"Available columns:\")\n",
    "print(ad_df_balanced.columns.tolist())"
   ]
  },
  {
   "cell_type": "code",
   "execution_count": null,
   "metadata": {},
   "outputs": [],
   "source": [
    "\n",
    "display(ad_df_balanced)\n"
   ]
  },
  {
   "cell_type": "code",
   "execution_count": 75,
   "metadata": {},
   "outputs": [],
   "source": [
    "ad_df_balanced.to_csv('csvs/5_ad_df_balanced.csv', index=False)"
   ]
  },
  {
   "cell_type": "code",
   "execution_count": 2,
   "metadata": {},
   "outputs": [],
   "source": [
    "import pandas as pd\n",
    "ad_df_balanced = pd.read_csv('csvs/5_ad_df_balanced.csv')"
   ]
  },
  {
   "cell_type": "code",
   "execution_count": 3,
   "metadata": {},
   "outputs": [
    {
     "name": "stdout",
     "output_type": "stream",
     "text": [
      "\n",
      "Tuning Logistic Regression...\n",
      "Best parameters: {'C': np.float64(0.10778765841014329), 'penalty': 'l2', 'solver': 'liblinear'}\n",
      "Best score: 0.250\n",
      "\n",
      "Tuning Decision Tree...\n",
      "Best parameters: {'max_depth': 9, 'min_samples_leaf': 4, 'min_samples_split': 16}\n",
      "Best score: 0.500\n",
      "\n",
      "Tuning Random Forest...\n",
      "Best parameters: {'max_depth': 6, 'min_samples_split': 2, 'n_estimators': 253}\n",
      "Best score: 1.000\n",
      "\n",
      "Tuning Gradient Boosting...\n",
      "Best parameters: {'learning_rate': np.float64(0.12236203565420874), 'max_depth': 7, 'n_estimators': 64}\n",
      "Best score: 1.000\n",
      "\n",
      "Tuning Support Vector Machine...\n",
      "Best parameters: {'C': np.float64(7.5908023769472495), 'kernel': 'rbf'}\n",
      "Best score: 1.000\n",
      "Training Majority Classifier...\n",
      "Training Logistic Regression...\n",
      "Training Decision Tree...\n",
      "Training Random Forest...\n",
      "Training Gradient Boosting...\n",
      "Training Support Vector Machine...\n",
      "Training K-Nearest Neighbors...\n",
      "Training AdaBoost...\n",
      "Saving Majority Classifier to trained_models/majority_classifier.pkl\n",
      "Saving Logistic Regression to trained_models/logistic_regression.pkl\n",
      "Saving Decision Tree to trained_models/decision_tree.pkl\n",
      "Saving Random Forest to trained_models/random_forest.pkl\n",
      "Saving Gradient Boosting to trained_models/gradient_boosting.pkl\n",
      "Saving Support Vector Machine to trained_models/support_vector_machine.pkl\n",
      "Saving K-Nearest Neighbors to trained_models/k-nearest_neighbors.pkl\n",
      "Saving AdaBoost to trained_models/adaboost.pkl\n",
      "Evaluating Majority Classifier...\n",
      "Evaluating Logistic Regression...\n",
      "Evaluating Decision Tree...\n"
     ]
    },
    {
     "name": "stderr",
     "output_type": "stream",
     "text": [
      "/home/arkastor/Development/Commercial-Brand-Differentiating-Message-Analysis/.venv/lib/python3.9/site-packages/sklearn/metrics/_classification.py:1565: UndefinedMetricWarning: Precision is ill-defined and being set to 0.0 due to no predicted samples. Use `zero_division` parameter to control this behavior.\n",
      "  _warn_prf(average, modifier, f\"{metric.capitalize()} is\", len(result))\n",
      "/home/arkastor/Development/Commercial-Brand-Differentiating-Message-Analysis/.venv/lib/python3.9/site-packages/sklearn/metrics/_classification.py:1565: UndefinedMetricWarning: Precision is ill-defined and being set to 0.0 due to no predicted samples. Use `zero_division` parameter to control this behavior.\n",
      "  _warn_prf(average, modifier, f\"{metric.capitalize()} is\", len(result))\n",
      "/home/arkastor/Development/Commercial-Brand-Differentiating-Message-Analysis/.venv/lib/python3.9/site-packages/sklearn/metrics/_classification.py:1565: UndefinedMetricWarning: Precision is ill-defined and being set to 0.0 due to no predicted samples. Use `zero_division` parameter to control this behavior.\n",
      "  _warn_prf(average, modifier, f\"{metric.capitalize()} is\", len(result))\n",
      "/home/arkastor/Development/Commercial-Brand-Differentiating-Message-Analysis/.venv/lib/python3.9/site-packages/sklearn/metrics/_classification.py:1565: UndefinedMetricWarning: Precision is ill-defined and being set to 0.0 due to no predicted samples. Use `zero_division` parameter to control this behavior.\n",
      "  _warn_prf(average, modifier, f\"{metric.capitalize()} is\", len(result))\n"
     ]
    },
    {
     "name": "stdout",
     "output_type": "stream",
     "text": [
      "Evaluating Random Forest...\n",
      "Evaluating Gradient Boosting...\n",
      "Evaluating Support Vector Machine...\n",
      "Evaluating K-Nearest Neighbors...\n",
      "Evaluating AdaBoost...\n"
     ]
    },
    {
     "name": "stderr",
     "output_type": "stream",
     "text": [
      "/home/arkastor/Development/Commercial-Brand-Differentiating-Message-Analysis/.venv/lib/python3.9/site-packages/sklearn/model_selection/_validation.py:978: UserWarning: Scoring failed. The score on this train-test partition for these parameters will be set to nan. Details: \n",
      "Traceback (most recent call last):\n",
      "  File \"/home/arkastor/Development/Commercial-Brand-Differentiating-Message-Analysis/.venv/lib/python3.9/site-packages/sklearn/metrics/_scorer.py\", line 140, in __call__\n",
      "    score = scorer._score(\n",
      "  File \"/home/arkastor/Development/Commercial-Brand-Differentiating-Message-Analysis/.venv/lib/python3.9/site-packages/sklearn/metrics/_scorer.py\", line 380, in _score\n",
      "    y_pred = method_caller(\n",
      "  File \"/home/arkastor/Development/Commercial-Brand-Differentiating-Message-Analysis/.venv/lib/python3.9/site-packages/sklearn/metrics/_scorer.py\", line 90, in _cached_call\n",
      "    result, _ = _get_response_values(\n",
      "  File \"/home/arkastor/Development/Commercial-Brand-Differentiating-Message-Analysis/.venv/lib/python3.9/site-packages/sklearn/utils/_response.py\", line 214, in _get_response_values\n",
      "    y_pred = prediction_method(X)\n",
      "  File \"/home/arkastor/Development/Commercial-Brand-Differentiating-Message-Analysis/.venv/lib/python3.9/site-packages/sklearn/neighbors/_classification.py\", line 371, in predict_proba\n",
      "    neigh_ind = self.kneighbors(X, return_distance=False)\n",
      "  File \"/home/arkastor/Development/Commercial-Brand-Differentiating-Message-Analysis/.venv/lib/python3.9/site-packages/sklearn/neighbors/_base.py\", line 853, in kneighbors\n",
      "    raise ValueError(\n",
      "ValueError: Expected n_neighbors <= n_samples_fit, but n_neighbors = 5, n_samples_fit = 2, n_samples = 3\n",
      "\n",
      "  warnings.warn(\n",
      "/home/arkastor/Development/Commercial-Brand-Differentiating-Message-Analysis/.venv/lib/python3.9/site-packages/sklearn/model_selection/_validation.py:978: UserWarning: Scoring failed. The score on this train-test partition for these parameters will be set to nan. Details: \n",
      "Traceback (most recent call last):\n",
      "  File \"/home/arkastor/Development/Commercial-Brand-Differentiating-Message-Analysis/.venv/lib/python3.9/site-packages/sklearn/metrics/_scorer.py\", line 140, in __call__\n",
      "    score = scorer._score(\n",
      "  File \"/home/arkastor/Development/Commercial-Brand-Differentiating-Message-Analysis/.venv/lib/python3.9/site-packages/sklearn/metrics/_scorer.py\", line 380, in _score\n",
      "    y_pred = method_caller(\n",
      "  File \"/home/arkastor/Development/Commercial-Brand-Differentiating-Message-Analysis/.venv/lib/python3.9/site-packages/sklearn/metrics/_scorer.py\", line 90, in _cached_call\n",
      "    result, _ = _get_response_values(\n",
      "  File \"/home/arkastor/Development/Commercial-Brand-Differentiating-Message-Analysis/.venv/lib/python3.9/site-packages/sklearn/utils/_response.py\", line 214, in _get_response_values\n",
      "    y_pred = prediction_method(X)\n",
      "  File \"/home/arkastor/Development/Commercial-Brand-Differentiating-Message-Analysis/.venv/lib/python3.9/site-packages/sklearn/neighbors/_classification.py\", line 274, in predict\n",
      "    neigh_ind = self.kneighbors(X, return_distance=False)\n",
      "  File \"/home/arkastor/Development/Commercial-Brand-Differentiating-Message-Analysis/.venv/lib/python3.9/site-packages/sklearn/neighbors/_base.py\", line 853, in kneighbors\n",
      "    raise ValueError(\n",
      "ValueError: Expected n_neighbors <= n_samples_fit, but n_neighbors = 5, n_samples_fit = 2, n_samples = 3\n",
      "\n",
      "  warnings.warn(\n",
      "/home/arkastor/Development/Commercial-Brand-Differentiating-Message-Analysis/.venv/lib/python3.9/site-packages/sklearn/model_selection/_validation.py:978: UserWarning: Scoring failed. The score on this train-test partition for these parameters will be set to nan. Details: \n",
      "Traceback (most recent call last):\n",
      "  File \"/home/arkastor/Development/Commercial-Brand-Differentiating-Message-Analysis/.venv/lib/python3.9/site-packages/sklearn/metrics/_scorer.py\", line 140, in __call__\n",
      "    score = scorer._score(\n",
      "  File \"/home/arkastor/Development/Commercial-Brand-Differentiating-Message-Analysis/.venv/lib/python3.9/site-packages/sklearn/metrics/_scorer.py\", line 380, in _score\n",
      "    y_pred = method_caller(\n",
      "  File \"/home/arkastor/Development/Commercial-Brand-Differentiating-Message-Analysis/.venv/lib/python3.9/site-packages/sklearn/metrics/_scorer.py\", line 90, in _cached_call\n",
      "    result, _ = _get_response_values(\n",
      "  File \"/home/arkastor/Development/Commercial-Brand-Differentiating-Message-Analysis/.venv/lib/python3.9/site-packages/sklearn/utils/_response.py\", line 214, in _get_response_values\n",
      "    y_pred = prediction_method(X)\n",
      "  File \"/home/arkastor/Development/Commercial-Brand-Differentiating-Message-Analysis/.venv/lib/python3.9/site-packages/sklearn/neighbors/_classification.py\", line 371, in predict_proba\n",
      "    neigh_ind = self.kneighbors(X, return_distance=False)\n",
      "  File \"/home/arkastor/Development/Commercial-Brand-Differentiating-Message-Analysis/.venv/lib/python3.9/site-packages/sklearn/neighbors/_base.py\", line 853, in kneighbors\n",
      "    raise ValueError(\n",
      "ValueError: Expected n_neighbors <= n_samples_fit, but n_neighbors = 5, n_samples_fit = 3, n_samples = 2\n",
      "\n",
      "  warnings.warn(\n",
      "/home/arkastor/Development/Commercial-Brand-Differentiating-Message-Analysis/.venv/lib/python3.9/site-packages/sklearn/model_selection/_validation.py:978: UserWarning: Scoring failed. The score on this train-test partition for these parameters will be set to nan. Details: \n",
      "Traceback (most recent call last):\n",
      "  File \"/home/arkastor/Development/Commercial-Brand-Differentiating-Message-Analysis/.venv/lib/python3.9/site-packages/sklearn/metrics/_scorer.py\", line 140, in __call__\n",
      "    score = scorer._score(\n",
      "  File \"/home/arkastor/Development/Commercial-Brand-Differentiating-Message-Analysis/.venv/lib/python3.9/site-packages/sklearn/metrics/_scorer.py\", line 380, in _score\n",
      "    y_pred = method_caller(\n",
      "  File \"/home/arkastor/Development/Commercial-Brand-Differentiating-Message-Analysis/.venv/lib/python3.9/site-packages/sklearn/metrics/_scorer.py\", line 90, in _cached_call\n",
      "    result, _ = _get_response_values(\n",
      "  File \"/home/arkastor/Development/Commercial-Brand-Differentiating-Message-Analysis/.venv/lib/python3.9/site-packages/sklearn/utils/_response.py\", line 214, in _get_response_values\n",
      "    y_pred = prediction_method(X)\n",
      "  File \"/home/arkastor/Development/Commercial-Brand-Differentiating-Message-Analysis/.venv/lib/python3.9/site-packages/sklearn/neighbors/_classification.py\", line 274, in predict\n",
      "    neigh_ind = self.kneighbors(X, return_distance=False)\n",
      "  File \"/home/arkastor/Development/Commercial-Brand-Differentiating-Message-Analysis/.venv/lib/python3.9/site-packages/sklearn/neighbors/_base.py\", line 853, in kneighbors\n",
      "    raise ValueError(\n",
      "ValueError: Expected n_neighbors <= n_samples_fit, but n_neighbors = 5, n_samples_fit = 3, n_samples = 2\n",
      "\n",
      "  warnings.warn(\n"
     ]
    },
    {
     "data": {
      "text/html": [
       "<div>\n",
       "<style scoped>\n",
       "    .dataframe tbody tr th:only-of-type {\n",
       "        vertical-align: middle;\n",
       "    }\n",
       "\n",
       "    .dataframe tbody tr th {\n",
       "        vertical-align: top;\n",
       "    }\n",
       "\n",
       "    .dataframe thead th {\n",
       "        text-align: right;\n",
       "    }\n",
       "</style>\n",
       "<table border=\"1\" class=\"dataframe\">\n",
       "  <thead>\n",
       "    <tr style=\"text-align: right;\">\n",
       "      <th></th>\n",
       "      <th>product_category</th>\n",
       "      <th>brand</th>\n",
       "      <th>commercial_number</th>\n",
       "      <th>BDM</th>\n",
       "      <th>transcript</th>\n",
       "      <th>audio_only_transcript</th>\n",
       "      <th>ocr_text</th>\n",
       "      <th>word_count</th>\n",
       "      <th>superlative_count</th>\n",
       "      <th>comparative_count</th>\n",
       "      <th>uniqueness_count</th>\n",
       "      <th>total_bdm_terms_count</th>\n",
       "      <th>total_bdm_terms_pct</th>\n",
       "      <th>superlatives</th>\n",
       "      <th>comparatives</th>\n",
       "      <th>unique_words</th>\n",
       "      <th>adj_noun_pairs</th>\n",
       "      <th>num_adj_noun_pairs</th>\n",
       "    </tr>\n",
       "  </thead>\n",
       "  <tbody>\n",
       "    <tr>\n",
       "      <th>0</th>\n",
       "      <td>1.0</td>\n",
       "      <td>AvocadosfromMexico</td>\n",
       "      <td>AD0525</td>\n",
       "      <td>1.0</td>\n",
       "      <td>NOT IMPLEMENTED YET  Well, we didn't. We seale...</td>\n",
       "      <td>Well, we didn't. We sealed the bad out and ke...</td>\n",
       "      <td>NOT IMPLEMENTED YET</td>\n",
       "      <td>98</td>\n",
       "      <td>1</td>\n",
       "      <td>0</td>\n",
       "      <td>0</td>\n",
       "      <td>1</td>\n",
       "      <td>1.020408</td>\n",
       "      <td>hottest</td>\n",
       "      <td>NaN</td>\n",
       "      <td>NaN</td>\n",
       "      <td>[]</td>\n",
       "      <td>0</td>\n",
       "    </tr>\n",
       "    <tr>\n",
       "      <th>1</th>\n",
       "      <td>1.0</td>\n",
       "      <td>AvocadosfromMexico</td>\n",
       "      <td>AD0474</td>\n",
       "      <td>0.0</td>\n",
       "      <td>NOT IMPLEMENTED YET  Guys, how can we be a sec...</td>\n",
       "      <td>Guys, how can we be a secret society if we ca...</td>\n",
       "      <td>NOT IMPLEMENTED YET</td>\n",
       "      <td>125</td>\n",
       "      <td>1</td>\n",
       "      <td>0</td>\n",
       "      <td>1</td>\n",
       "      <td>2</td>\n",
       "      <td>1.600000</td>\n",
       "      <td>least</td>\n",
       "      <td>NaN</td>\n",
       "      <td>only</td>\n",
       "      <td>['secret society', 'good fat', 'secret society...</td>\n",
       "      <td>4</td>\n",
       "    </tr>\n",
       "    <tr>\n",
       "      <th>2</th>\n",
       "      <td>1.0</td>\n",
       "      <td>AvocadosfromMexico</td>\n",
       "      <td>AD0357</td>\n",
       "      <td>0.0</td>\n",
       "      <td>NOT IMPLEMENTED YET  With an ex-pick in the fi...</td>\n",
       "      <td>With an ex-pick in the first draft ever, Aust...</td>\n",
       "      <td>NOT IMPLEMENTED YET</td>\n",
       "      <td>80</td>\n",
       "      <td>0</td>\n",
       "      <td>0</td>\n",
       "      <td>2</td>\n",
       "      <td>2</td>\n",
       "      <td>2.500000</td>\n",
       "      <td>NaN</td>\n",
       "      <td>NaN</td>\n",
       "      <td>first, original</td>\n",
       "      <td>['first draft', 'ideal year']</td>\n",
       "      <td>2</td>\n",
       "    </tr>\n",
       "    <tr>\n",
       "      <th>3</th>\n",
       "      <td>1.0</td>\n",
       "      <td>AvocadosfromMexico</td>\n",
       "      <td>AD0584</td>\n",
       "      <td>1.0</td>\n",
       "      <td>NOT IMPLEMENTED YET  Pagentry, poise, welcome ...</td>\n",
       "      <td>Pagentry, poise, welcome to the Doge Show whe...</td>\n",
       "      <td>NOT IMPLEMENTED YET</td>\n",
       "      <td>110</td>\n",
       "      <td>0</td>\n",
       "      <td>0</td>\n",
       "      <td>1</td>\n",
       "      <td>1</td>\n",
       "      <td>0.909091</td>\n",
       "      <td>NaN</td>\n",
       "      <td>NaN</td>\n",
       "      <td>ultimate</td>\n",
       "      <td>['ultimate prize', 'good sit']</td>\n",
       "      <td>2</td>\n",
       "    </tr>\n",
       "    <tr>\n",
       "      <th>4</th>\n",
       "      <td>1.0</td>\n",
       "      <td>AvocadosfromMexico</td>\n",
       "      <td>AD0414</td>\n",
       "      <td>1.0</td>\n",
       "      <td>NOT IMPLEMENTED YET  Over here we have the cub...</td>\n",
       "      <td>Over here we have the cube of Rubik. This sim...</td>\n",
       "      <td>NOT IMPLEMENTED YET</td>\n",
       "      <td>106</td>\n",
       "      <td>0</td>\n",
       "      <td>0</td>\n",
       "      <td>0</td>\n",
       "      <td>0</td>\n",
       "      <td>0.000000</td>\n",
       "      <td>NaN</td>\n",
       "      <td>NaN</td>\n",
       "      <td>NaN</td>\n",
       "      <td>['simple puzzle', '21st century', 'civil war']</td>\n",
       "      <td>3</td>\n",
       "    </tr>\n",
       "  </tbody>\n",
       "</table>\n",
       "</div>"
      ],
      "text/plain": [
       "   product_category               brand commercial_number  BDM  \\\n",
       "0               1.0  AvocadosfromMexico            AD0525  1.0   \n",
       "1               1.0  AvocadosfromMexico            AD0474  0.0   \n",
       "2               1.0  AvocadosfromMexico            AD0357  0.0   \n",
       "3               1.0  AvocadosfromMexico            AD0584  1.0   \n",
       "4               1.0  AvocadosfromMexico            AD0414  1.0   \n",
       "\n",
       "                                          transcript  \\\n",
       "0  NOT IMPLEMENTED YET  Well, we didn't. We seale...   \n",
       "1  NOT IMPLEMENTED YET  Guys, how can we be a sec...   \n",
       "2  NOT IMPLEMENTED YET  With an ex-pick in the fi...   \n",
       "3  NOT IMPLEMENTED YET  Pagentry, poise, welcome ...   \n",
       "4  NOT IMPLEMENTED YET  Over here we have the cub...   \n",
       "\n",
       "                               audio_only_transcript             ocr_text  \\\n",
       "0   Well, we didn't. We sealed the bad out and ke...  NOT IMPLEMENTED YET   \n",
       "1   Guys, how can we be a secret society if we ca...  NOT IMPLEMENTED YET   \n",
       "2   With an ex-pick in the first draft ever, Aust...  NOT IMPLEMENTED YET   \n",
       "3   Pagentry, poise, welcome to the Doge Show whe...  NOT IMPLEMENTED YET   \n",
       "4   Over here we have the cube of Rubik. This sim...  NOT IMPLEMENTED YET   \n",
       "\n",
       "   word_count  superlative_count  comparative_count  uniqueness_count  \\\n",
       "0          98                  1                  0                 0   \n",
       "1         125                  1                  0                 1   \n",
       "2          80                  0                  0                 2   \n",
       "3         110                  0                  0                 1   \n",
       "4         106                  0                  0                 0   \n",
       "\n",
       "   total_bdm_terms_count  total_bdm_terms_pct superlatives  comparatives  \\\n",
       "0                      1             1.020408      hottest           NaN   \n",
       "1                      2             1.600000        least           NaN   \n",
       "2                      2             2.500000          NaN           NaN   \n",
       "3                      1             0.909091          NaN           NaN   \n",
       "4                      0             0.000000          NaN           NaN   \n",
       "\n",
       "      unique_words                                     adj_noun_pairs  \\\n",
       "0              NaN                                                 []   \n",
       "1             only  ['secret society', 'good fat', 'secret society...   \n",
       "2  first, original                      ['first draft', 'ideal year']   \n",
       "3         ultimate                     ['ultimate prize', 'good sit']   \n",
       "4              NaN     ['simple puzzle', '21st century', 'civil war']   \n",
       "\n",
       "   num_adj_noun_pairs  \n",
       "0                   0  \n",
       "1                   4  \n",
       "2                   2  \n",
       "3                   2  \n",
       "4                   3  "
      ]
     },
     "metadata": {},
     "output_type": "display_data"
    },
    {
     "name": "stdout",
     "output_type": "stream",
     "text": [
      "Cross-Validation Results:\n",
      "\n"
     ]
    },
    {
     "data": {
      "text/markdown": [
       "| Model                  |   ROC AUC (Mean) |   ROC AUC (Std) |   Accuracy (Mean) |   Accuracy (Std) |   Precision (Mean) |   Precision (Std) |   Recall (Mean) |   Recall (Std) |\n",
       "|:-----------------------|-----------------:|----------------:|------------------:|-----------------:|-------------------:|------------------:|----------------:|---------------:|\n",
       "| Support Vector Machine |             1    |            0    |          0.75     |        0.25      |               0.75 |              0.25 |             1   |            0   |\n",
       "| Gradient Boosting      |             1    |            0    |          1        |        0         |               1    |              0    |             1   |            0   |\n",
       "| Random Forest          |             1    |            0    |          0.75     |        0.25      |               0.75 |              0.25 |             1   |            0   |\n",
       "| AdaBoost               |             1    |            0    |          1        |        0         |               1    |              0    |             1   |            0   |\n",
       "| Majority Classifier    |             0.5  |            0    |          0.416667 |        0.0833333 |               0.25 |              0.25 |             0.5 |            0.5 |\n",
       "| Decision Tree          |             0.5  |            0    |          0.416667 |        0.0833333 |               0.25 |              0.25 |             0.5 |            0.5 |\n",
       "| Logistic Regression    |             0.25 |            0.25 |          0.416667 |        0.0833333 |               0    |              0    |             0   |            0   |\n",
       "| K-Nearest Neighbors    |           nan    |          nan    |        nan        |      nan         |             nan    |            nan    |           nan   |          nan   |"
      ],
      "text/plain": [
       "<IPython.core.display.Markdown object>"
      ]
     },
     "metadata": {},
     "output_type": "display_data"
    },
    {
     "data": {
      "image/png": "[encoded data removed]",
      "text/plain": [
       "<Figure size 1600x1600 with 16 Axes>"
      ]
     },
     "metadata": {},
     "output_type": "display_data"
    },
    {
     "name": "stderr",
     "output_type": "stream",
     "text": [
      "/tmp/ipykernel_35754/426578484.py:31: SettingWithCopyWarning: \n",
      "A value is trying to be set on a copy of a slice from a DataFrame.\n",
      "Try using .loc[row_indexer,col_indexer] = value instead\n",
      "\n",
      "See the caveats in the documentation: https://pandas.pydata.org/pandas-docs/stable/user_guide/indexing.html#returning-a-view-versus-a-copy\n",
      "  predicted_data['majority_vote'] = predicted_data[['Logistic Regression_result', 'Random Forest_result', 'Support Vector Machine_result']].mode(axis=1)[0]\n"
     ]
    },
    {
     "data": {
      "text/html": [
       "<div>\n",
       "<style scoped>\n",
       "    .dataframe tbody tr th:only-of-type {\n",
       "        vertical-align: middle;\n",
       "    }\n",
       "\n",
       "    .dataframe tbody tr th {\n",
       "        vertical-align: top;\n",
       "    }\n",
       "\n",
       "    .dataframe thead th {\n",
       "        text-align: right;\n",
       "    }\n",
       "</style>\n",
       "<table border=\"1\" class=\"dataframe\">\n",
       "  <thead>\n",
       "    <tr style=\"text-align: right;\">\n",
       "      <th></th>\n",
       "      <th>commercial_number</th>\n",
       "      <th>commercial_number</th>\n",
       "      <th>BDM</th>\n",
       "      <th>Logistic Regression_result</th>\n",
       "      <th>Random Forest_result</th>\n",
       "      <th>Support Vector Machine_result</th>\n",
       "      <th>majority_vote</th>\n",
       "    </tr>\n",
       "  </thead>\n",
       "  <tbody>\n",
       "    <tr>\n",
       "      <th>0</th>\n",
       "      <td>AD0525</td>\n",
       "      <td>AD0525</td>\n",
       "      <td>1.0</td>\n",
       "      <td>FN</td>\n",
       "      <td>TP</td>\n",
       "      <td>TP</td>\n",
       "      <td>TP</td>\n",
       "    </tr>\n",
       "    <tr>\n",
       "      <th>1</th>\n",
       "      <td>AD0474</td>\n",
       "      <td>AD0474</td>\n",
       "      <td>0.0</td>\n",
       "      <td>TN</td>\n",
       "      <td>TN</td>\n",
       "      <td>TN</td>\n",
       "      <td>TN</td>\n",
       "    </tr>\n",
       "    <tr>\n",
       "      <th>2</th>\n",
       "      <td>AD0357</td>\n",
       "      <td>AD0357</td>\n",
       "      <td>0.0</td>\n",
       "      <td>TN</td>\n",
       "      <td>TN</td>\n",
       "      <td>TN</td>\n",
       "      <td>TN</td>\n",
       "    </tr>\n",
       "    <tr>\n",
       "      <th>3</th>\n",
       "      <td>AD0584</td>\n",
       "      <td>AD0584</td>\n",
       "      <td>1.0</td>\n",
       "      <td>FN</td>\n",
       "      <td>TP</td>\n",
       "      <td>TP</td>\n",
       "      <td>TP</td>\n",
       "    </tr>\n",
       "    <tr>\n",
       "      <th>4</th>\n",
       "      <td>AD0414</td>\n",
       "      <td>AD0414</td>\n",
       "      <td>1.0</td>\n",
       "      <td>TP</td>\n",
       "      <td>TP</td>\n",
       "      <td>TP</td>\n",
       "      <td>TP</td>\n",
       "    </tr>\n",
       "  </tbody>\n",
       "</table>\n",
       "</div>"
      ],
      "text/plain": [
       "  commercial_number commercial_number  BDM Logistic Regression_result  \\\n",
       "0            AD0525            AD0525  1.0                         FN   \n",
       "1            AD0474            AD0474  0.0                         TN   \n",
       "2            AD0357            AD0357  0.0                         TN   \n",
       "3            AD0584            AD0584  1.0                         FN   \n",
       "4            AD0414            AD0414  1.0                         TP   \n",
       "\n",
       "  Random Forest_result Support Vector Machine_result majority_vote  \n",
       "0                   TP                            TP            TP  \n",
       "1                   TN                            TN            TN  \n",
       "2                   TN                            TN            TN  \n",
       "3                   TP                            TP            TP  \n",
       "4                   TP                            TP            TP  "
      ]
     },
     "metadata": {},
     "output_type": "display_data"
    },
    {
     "name": "stdout",
     "output_type": "stream",
     "text": [
      "\n",
      "Decision Tree Analysis:\n"
     ]
    },
    {
     "data": {
      "image/png": "[encoded data removed]",
      "text/plain": [
       "<Figure size 2000x1000 with 1 Axes>"
      ]
     },
     "metadata": {},
     "output_type": "display_data"
    },
    {
     "name": "stdout",
     "output_type": "stream",
     "text": [
      "\n",
      "Feature Importance Ranking:\n",
      "1. num_adj_noun_pairs: 0.000\n",
      "2. total_bdm_terms_pct: 0.000\n",
      "3. total_bdm_terms_count: 0.000\n",
      "4. uniqueness_count: 0.000\n",
      "5. comparative_count: 0.000\n",
      "6. superlative_count: 0.000\n"
     ]
    }
   ],
   "source": [
    "import models as m\n",
    "\n",
    "data, target = m.prepare_model_data(ad_df_balanced, INDUSTRY_SPECIFIC_AWARENESS, BRAND_SPECIFIC_AWARENESS)\n",
    "\n",
    "base_models = m.get_base_models()\n",
    "param_distributions = m.get_param_distributions()\n",
    "tuned_models = m.tune_models(data, target, base_models, param_distributions)\n",
    "\n",
    "trained_models = m.train_models(data, target, tuned_models)\n",
    "\n",
    "# Evaluate the trained models\n",
    "results_df, predictions = m.evaluate_models(data, target, trained_models)\n",
    "\n",
    "original_data = ad_df_balanced.copy()\n",
    "commercial_number = original_data['commercial_number']\n",
    "display(original_data.head(10))\n",
    "\n",
    "original_data = pd.concat([original_data, commercial_number], axis=1)\n",
    "\n",
    "original_data = pd.concat([original_data, predictions], axis=1)\n",
    "\n",
    "# After your existing model training code\n",
    "m.display_model_results(data, target, trained_models, results_df)\n",
    "\n",
    "\n",
    "predicted_data = original_data\n",
    "\n",
    "# only include the top 3 models prediction results\n",
    "predicted_data = predicted_data[['commercial_number', 'BDM', 'Logistic Regression_result', 'Random Forest_result', 'Support Vector Machine_result']]\n",
    "# write the majority result of the colums logistic regression, random forest and support vector machine to a new column majority vote\n",
    "predicted_data['majority_vote'] = predicted_data[['Logistic Regression_result', 'Random Forest_result', 'Support Vector Machine_result']].mode(axis=1)[0]\n",
    "display(predicted_data.head(10))\n",
    "\n",
    "\n",
    "m.analyze_decision_tree(data, target, tuned_models)\n"
   ]
  },
  {
   "cell_type": "markdown",
   "metadata": {},
   "source": [
    "## Ansatz 2 - RNN + LSTM"
   ]
  },
  {
   "cell_type": "code",
   "execution_count": 37,
   "metadata": {},
   "outputs": [],
   "source": [
    "import numpy as np\n",
    "import pandas as pd\n",
    "import matplotlib.pyplot as plt\n",
    "\n",
    "import tensorflow as tf\n",
    "import tensorflow_hub as hub"
   ]
  },
  {
   "cell_type": "markdown",
   "metadata": {},
   "source": [
    "## Ansatz 2 - RNN + LSTM"
   ]
  },
  {
   "cell_type": "code",
   "execution_count": 38,
   "metadata": {},
   "outputs": [],
   "source": [
    "df = nn_df"
   ]
  },
  {
   "cell_type": "code",
   "execution_count": null,
   "metadata": {},
   "outputs": [],
   "source": [
    "train, val, test = np.split(df.sample(frac=1), [int(0.8*len(df)), int(0.9*len(df))])"
   ]
  },
  {
   "cell_type": "code",
   "execution_count": 40,
   "metadata": {},
   "outputs": [],
   "source": [
    "def df_to_dataset(dataframe, shuffle=True, batch_size=32):\n",
    "    df = dataframe.copy()\n",
    "    labels = df.pop('label')\n",
    "    \n",
    "    # Clean the descriptions - replace NaN with empty string and ensure all items are strings\n",
    "    descriptions = df[\"description\"].fillna(\"\").astype(str).tolist()\n",
    "    \n",
    "    # Convert to tensors\n",
    "    ds = tf.data.Dataset.from_tensor_slices((descriptions, labels))\n",
    "    \n",
    "    if shuffle:\n",
    "        ds = ds.shuffle(buffer_size=len(dataframe))\n",
    "    ds = ds.batch(batch_size)\n",
    "    return ds"
   ]
  },
  {
   "cell_type": "code",
   "execution_count": null,
   "metadata": {},
   "outputs": [],
   "source": [
    "train_data = df_to_dataset(train)\n",
    "valid_data = df_to_dataset(val)\n",
    "test_data = df_to_dataset(test)"
   ]
  },
  {
   "cell_type": "markdown",
   "metadata": {},
   "source": [
    "# Embedding + Model"
   ]
  },
  {
   "cell_type": "code",
   "execution_count": 42,
   "metadata": {},
   "outputs": [],
   "source": [
    "embedding = \"https://tfhub.dev/google/nnlm-en-dim50/2\"\n",
    "hub_layer = hub.KerasLayer(embedding, dtype=tf.string, trainable=True)"
   ]
  },
  {
   "cell_type": "code",
   "execution_count": null,
   "metadata": {},
   "outputs": [],
   "source": [
    "hub_layer(list(train_data)[0][0])"
   ]
  },
  {
   "cell_type": "code",
   "execution_count": 44,
   "metadata": {},
   "outputs": [],
   "source": [
    "import tf_keras\n",
    "\n",
    "model = tf_keras.Sequential([\n",
    "    hub_layer,\n",
    "    tf_keras.layers.Dense(16, activation='relu'),\n",
    "    tf_keras.layers.Dropout(0.4),\n",
    "    tf_keras.layers.Dense(16, activation='relu'),\n",
    "    tf_keras.layers.Dropout(0.4),\n",
    "    tf_keras.layers.Dense(1, activation='sigmoid')\n",
    "])"
   ]
  },
  {
   "cell_type": "code",
   "execution_count": 45,
   "metadata": {},
   "outputs": [],
   "source": [
    "model.compile(optimizer='adam',\n",
    "              loss=tf.keras.losses.BinaryCrossentropy(),\n",
    "              metrics=['accuracy'])"
   ]
  },
  {
   "cell_type": "code",
   "execution_count": null,
   "metadata": {},
   "outputs": [],
   "source": [
    "model.evaluate(train_data)"
   ]
  },
  {
   "cell_type": "code",
   "execution_count": null,
   "metadata": {},
   "outputs": [],
   "source": [
    "model.evaluate(valid_data)"
   ]
  },
  {
   "cell_type": "code",
   "execution_count": 48,
   "metadata": {},
   "outputs": [],
   "source": [
    "# history = model.fit(train_data, epochs=3, validation_data=valid_data)"
   ]
  },
  {
   "cell_type": "code",
   "execution_count": 49,
   "metadata": {},
   "outputs": [],
   "source": [
    "# \n"
   ]
  },
  {
   "cell_type": "code",
   "execution_count": null,
   "metadata": {},
   "outputs": [],
   "source": [
    "model.evaluate(test_data)"
   ]
  },
  {
   "cell_type": "code",
   "execution_count": 51,
   "metadata": {},
   "outputs": [],
   "source": [
    "from sklearn.model_selection import KFold\n",
    "\n",
    "def cross_validate_confusion_matrix(df, n_splits=5):\n",
    "    kf = KFold(n_splits=n_splits, shuffle=True, random_state=42)\n",
    "    all_true = []\n",
    "    all_pred = []\n",
    "    \n",
    "    for fold, (train_idx, val_idx) in enumerate(kf.split(df)):\n",
    "        # Split the data\n",
    "        train = df.iloc[train_idx]\n",
    "        val = df.iloc[val_idx]\n",
    "        \n",
    "        # Create datasets\n",
    "        train_data = df_to_dataset(train)\n",
    "        val_data = df_to_dataset(val)\n",
    "        \n",
    "        # Train model\n",
    "        model = tf_keras.Sequential([\n",
    "            hub_layer,\n",
    "            tf_keras.layers.Dense(16, activation='relu'),\n",
    "            tf_keras.layers.Dropout(0.4),\n",
    "            tf_keras.layers.Dense(16, activation='relu'),\n",
    "            tf_keras.layers.Dropout(0.4),\n",
    "            tf_keras.layers.Dense(1, activation='sigmoid')\n",
    "        ])\n",
    "        \n",
    "        model.compile(optimizer='adam',\n",
    "                     loss=tf.keras.losses.BinaryCrossentropy(),\n",
    "                     metrics=['accuracy'])\n",
    "        \n",
    "        model.fit(train_data, epochs=3, verbose=0)\n",
    "        \n",
    "        # Get predictions for this fold's validation set\n",
    "        val_predictions = model.predict(val_data, verbose=0)\n",
    "        val_predictions = (val_predictions > 0.5).astype(int)\n",
    "        \n",
    "        # Store true labels and predictions\n",
    "        val_labels = np.concatenate([y for x, y in val_data], axis=0)\n",
    "        all_true.extend(val_labels)\n",
    "        all_pred.extend(val_predictions)\n",
    "    \n",
    "    return np.array(all_true), np.array(all_pred)"
   ]
  },
  {
   "cell_type": "code",
   "execution_count": 52,
   "metadata": {},
   "outputs": [],
   "source": [
    "import seaborn as sns\n",
    "from sklearn.metrics import confusion_matrix\n",
    "def plot_confusion_matrix(true_labels, predictions, title=\"Model Confusion Matrix\"):\n",
    "    # Create confusion matrix\n",
    "    cm = confusion_matrix(true_labels, predictions)\n",
    "\n",
    "    # Plot confusion matrix\n",
    "    plt.figure(figsize=(8, 6))\n",
    "    sns.heatmap(cm, annot=True, fmt='d', cmap='Blues')\n",
    "    plt.title(title)\n",
    "    plt.xlabel('Predicted Label')\n",
    "    plt.ylabel('True Label')\n",
    "    plt.show()\n",
    "\n",
    "    # Calculate and print metrics\n",
    "    tn, fp, fn, tp = cm.ravel()\n",
    "    accuracy = (tp + tn) / (tp + tn + fp + fn)\n",
    "    precision = tp / (tp + fp) if (tp + fp) > 0 else 0\n",
    "    recall = tp / (tp + fn) if (tp + fn) > 0 else 0\n",
    "    f1 = 2 * (precision * recall) / (precision + recall) if (precision + recall) > 0 else 0\n",
    "\n",
    "    print(f\"\\nModel Metrics:\")\n",
    "    print(f\"Accuracy: {accuracy:.3f}\")\n",
    "    print(f\"Precision: {precision:.3f}\")\n",
    "    print(f\"Recall: {recall:.3f}\")\n",
    "    print(f\"F1 Score: {f1:.3f}\")"
   ]
  },
  {
   "cell_type": "code",
   "execution_count": null,
   "metadata": {},
   "outputs": [],
   "source": [
    "# Get cross-validation results\n",
    "true_labels, predictions = cross_validate_confusion_matrix(df)\n",
    "\n",
    "# Plot confusion matrix for all data\n",
    "plot_confusion_matrix(true_labels, predictions, \"Cross-Validated Model Confusion Matrix\")"
   ]
  },
  {
   "cell_type": "markdown",
   "metadata": {},
   "source": [
    "# LSTM"
   ]
  },
  {
   "cell_type": "code",
   "execution_count": 54,
   "metadata": {},
   "outputs": [],
   "source": [
    "def cross_validate_lstm_confusion_matrix(df, n_splits=5):\n",
    "    kf = KFold(n_splits=n_splits, shuffle=True, random_state=42)\n",
    "    all_true = []\n",
    "    all_pred = []\n",
    "    \n",
    "    for fold, (train_idx, val_idx) in enumerate(kf.split(df)):\n",
    "        # Split the data\n",
    "        train = df.iloc[train_idx]\n",
    "        val = df.iloc[val_idx]\n",
    "        \n",
    "        # Create datasets\n",
    "        train_data = df_to_dataset(train)\n",
    "        val_data = df_to_dataset(val)\n",
    "        \n",
    "        # Create and compile model\n",
    "        model = tf.keras.Sequential([\n",
    "            encoder,\n",
    "            tf.keras.layers.Embedding(\n",
    "                input_dim=len(encoder.get_vocabulary()),\n",
    "                output_dim=32,\n",
    "                mask_zero=True\n",
    "            ),\n",
    "            tf.keras.layers.LSTM(32, use_cudnn=False),  # Disable cuDNN\n",
    "            tf.keras.layers.Dense(32, activation='relu'),\n",
    "            tf.keras.layers.Dropout(0.4),\n",
    "            tf.keras.layers.Dense(1, activation='sigmoid')\n",
    "        ])\n",
    "\n",
    "        model.compile(optimizer=tf.keras.optimizers.Adam(learning_rate=0.001),\n",
    "                     loss=tf.keras.losses.BinaryCrossentropy(),\n",
    "                     metrics=['accuracy'])\n",
    "        \n",
    "        # Train model\n",
    "        model.fit(train_data, epochs=5, verbose=0)\n",
    "        \n",
    "        # Get predictions for this fold's validation set\n",
    "        val_predictions = model.predict(val_data, verbose=0)\n",
    "        val_predictions = (val_predictions > 0.5).astype(int)\n",
    "        \n",
    "        # Store true labels and predictions\n",
    "        val_labels = np.concatenate([y for x, y in val_data], axis=0)\n",
    "        all_true.extend(val_labels)\n",
    "        all_pred.extend(val_predictions)\n",
    "    \n",
    "    return np.array(all_true), np.array(all_pred)"
   ]
  },
  {
   "cell_type": "code",
   "execution_count": 55,
   "metadata": {},
   "outputs": [],
   "source": [
    "encoder = tf.keras.layers.TextVectorization(max_tokens=600)\n",
    "encoder.adapt(train_data.map(lambda text, label: text))"
   ]
  },
  {
   "cell_type": "code",
   "execution_count": null,
   "metadata": {},
   "outputs": [],
   "source": [
    "vocab = np.array(encoder.get_vocabulary())\n",
    "vocab[:20]"
   ]
  },
  {
   "cell_type": "code",
   "execution_count": 57,
   "metadata": {},
   "outputs": [],
   "source": [
    "model = tf.keras.Sequential([\n",
    "    encoder,\n",
    "    tf.keras.layers.Embedding(\n",
    "        input_dim=len(encoder.get_vocabulary()),\n",
    "        output_dim=32,\n",
    "        mask_zero=True\n",
    "    ),\n",
    "    tf.keras.layers.LSTM(32, use_cudnn=False),  # Disable cuDNN\n",
    "    tf.keras.layers.Dense(32, activation='relu'),\n",
    "    tf.keras.layers.Dropout(0.4),\n",
    "    tf.keras.layers.Dense(1, activation='sigmoid')\n",
    "])\n",
    "\n",
    "model.compile(optimizer=tf.keras.optimizers.Adam(learning_rate=0.001),\n",
    "              loss=tf.keras.losses.BinaryCrossentropy(),\n",
    "              metrics=['accuracy'])"
   ]
  },
  {
   "cell_type": "code",
   "execution_count": 58,
   "metadata": {},
   "outputs": [],
   "source": [
    "model.compile(optimizer=tf.keras.optimizers.Adam(learning_rate=0.001),\n",
    "              loss=tf.keras.losses.BinaryCrossentropy(),\n",
    "              metrics=['accuracy'])"
   ]
  },
  {
   "cell_type": "code",
   "execution_count": null,
   "metadata": {},
   "outputs": [],
   "source": [
    "model.evaluate(train_data)\n",
    "model.evaluate(valid_data)"
   ]
  },
  {
   "cell_type": "code",
   "execution_count": null,
   "metadata": {},
   "outputs": [],
   "source": [
    "history = model.fit(train_data, epochs=5, validation_data=valid_data)"
   ]
  },
  {
   "cell_type": "code",
   "execution_count": null,
   "metadata": {},
   "outputs": [],
   "source": [
    "model.evaluate(test_data)"
   ]
  },
  {
   "cell_type": "code",
   "execution_count": null,
   "metadata": {},
   "outputs": [],
   "source": [
    "# Get cross-validation results for LSTM\n",
    "true_labels_lstm, predictions_lstm = cross_validate_lstm_confusion_matrix(df)\n",
    "\n",
    "# Plot confusion matrix for all data\n",
    "plot_confusion_matrix(true_labels_lstm, predictions_lstm, \"Cross-Validated LSTM Model Confusion Matrix\")"
   ]
  },
  {
   "cell_type": "markdown",
   "metadata": {},
   "source": [
    "<div class=\"alert alert-block alert-info\">\n",
    "<b>Fazit</b>\n",
    "\n",
    "\n",
    "Warum performen die ML Modelle besser als die Neural Networks\n",
    "\n",
    "1. Datensatzgröße:\n",
    "- 250 Werbespots sind ein sehr kleiner Datensatz für neuronale Netze, die typischerweise Tausende oder Zehntausende von Beispielen benötigen, um effektiv zu lernen\n",
    "\n",
    "\n",
    "- Feature-Extraktionsansatz bietet eine explizite Struktur, die bei der begrenzten Menge schonmal eine Grundlage schaffen, die die NNs nicht haben\n",
    "\n",
    "2. Featurequalität vs. Rohtext:\n",
    "- Unsere handgefertigten Features erfassen domänenspezifisches Wissen darüber, was eine BDM effektiv macht\n",
    "\n",
    "- Neuronale Netze müssen diese Muster von Grund auf nur aus Rohtext lernen, was mit begrenzten Daten viel schwieriger ist\n",
    "\n",
    "</div>"
   ]
  }
 ],
 "metadata": {
  "kernelspec": {
   "display_name": "BDM_Detection-venv",
   "language": "python",
   "name": "python3"
  },
  "language_info": {
   "codemirror_mode": {
    "name": "ipython",
    "version": 3
   },
   "file_extension": ".py",
   "mimetype": "text/x-python",
   "name": "python",
   "nbconvert_exporter": "python",
   "pygments_lexer": "ipython3",
   "version": "3.9.12"
  }
 },
 "nbformat": 4,
 "nbformat_minor": 2
}

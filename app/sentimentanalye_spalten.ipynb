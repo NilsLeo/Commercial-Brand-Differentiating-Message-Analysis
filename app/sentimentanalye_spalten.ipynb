{
 "cells": [
  {
   "cell_type": "code",
   "execution_count": 2,
   "metadata": {},
   "outputs": [],
   "source": [
    "import pandas as pd\n",
    "\n",
    "file= '04.03._End_Datei.csv'\n",
    "daten = pd.read_csv(file, encoding=\"latin1\",delimiter=\";\")"
   ]
  },
  {
   "cell_type": "markdown",
   "metadata": {},
   "source": [
    "#### Spalte 1"
   ]
  },
  {
   "cell_type": "code",
   "execution_count": 21,
   "metadata": {},
   "outputs": [
    {
     "data": {
      "text/plain": [
       "0      3\n",
       "1      3\n",
       "2      2\n",
       "3      3\n",
       "4      3\n",
       "      ..\n",
       "545    1\n",
       "546    1\n",
       "547    2\n",
       "548    1\n",
       "549    1\n",
       "Name: cont_com_appeal, Length: 550, dtype: int64"
      ]
     },
     "execution_count": 21,
     "metadata": {},
     "output_type": "execute_result"
    }
   ],
   "source": [
    "# cont_com_appeal: Manuelle Codierung von Marketing Team, 1 = rational, 2 = ausgeglichen, 3 = emotional\n",
    "\n",
    "sentiment_spalten= daten[\"cont_com_appeal\"]\n",
    "sentiment_spalten"
   ]
  },
  {
   "cell_type": "markdown",
   "metadata": {},
   "source": [
    "#### Spalte 2"
   ]
  },
  {
   "cell_type": "code",
   "execution_count": 4,
   "metadata": {},
   "outputs": [
    {
     "data": {
      "text/plain": [
       "0      1\n",
       "1      1\n",
       "2      1\n",
       "3      1\n",
       "4      1\n",
       "      ..\n",
       "545    1\n",
       "546    0\n",
       "547    0\n",
       "548    1\n",
       "549    0\n",
       "Name: emotion_kodiert, Length: 550, dtype: int64"
      ]
     },
     "execution_count": 4,
     "metadata": {},
     "output_type": "execute_result"
    }
   ],
   "source": [
    "# Sentimentanalyse von der letzten Projektgruppe für die Ton-Transkription\n",
    "# Kodierung 0: p < 0.8 = neutral\n",
    "# Kodierung 1: p > 0.8 = emotional\n",
    "\n",
    "sentiment_spalten2= daten[\"Emotion_from_Dialogue\"]\n",
    "\n",
    "# Liste der Werte, die zu 1 kodiert werden sollen\n",
    "target_emotions = ['love', 'joy', 'surprise', 'sadness', 'anger', 'fear']\n",
    "daten['emotion_kodiert'] = sentiment_spalten2.apply(lambda x: 1 if x in target_emotions else 0)\n",
    "\n",
    "# Ausgabe des DataFrame\n",
    "daten['emotion_kodiert']"
   ]
  }
 ],
 "metadata": {
  "kernelspec": {
   "display_name": "BDM_Detection-venv",
   "language": "python",
   "name": "python3"
  },
  "language_info": {
   "codemirror_mode": {
    "name": "ipython",
    "version": 3
   },
   "file_extension": ".py",
   "mimetype": "text/x-python",
   "name": "python",
   "nbconvert_exporter": "python",
   "pygments_lexer": "ipython3",
   "version": "3.12.3"
  }
 },
 "nbformat": 4,
 "nbformat_minor": 2
}

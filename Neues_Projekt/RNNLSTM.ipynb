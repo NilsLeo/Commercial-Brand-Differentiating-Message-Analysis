{
 "cells": [
  {
   "cell_type": "code",
   "execution_count": 101,
   "metadata": {},
   "outputs": [],
   "source": [
    "import numpy as np\n",
    "import pandas as pd\n",
    "import matplotlib.pyplot as plt\n",
    "\n",
    "import tensorflow as tf\n",
    "import tensorflow_hub as hub"
   ]
  },
  {
   "cell_type": "markdown",
   "metadata": {},
   "source": [
    "## Ansatz 2 - RNN + LSTM"
   ]
  },
  {
   "cell_type": "code",
   "execution_count": 102,
   "metadata": {},
   "outputs": [],
   "source": [
    "df = pd.read_csv('df.csv')"
   ]
  },
  {
   "cell_type": "code",
   "execution_count": 103,
   "metadata": {},
   "outputs": [
    {
     "name": "stderr",
     "output_type": "stream",
     "text": [
      "/Users/nilst/Development/Commercial-Brand-Differentiating-Message-Analysis/Neues_Projekt/.venv/lib/python3.9/site-packages/numpy/_core/fromnumeric.py:57: FutureWarning: 'DataFrame.swapaxes' is deprecated and will be removed in a future version. Please use 'DataFrame.transpose' instead.\n",
      "  return bound(*args, **kwds)\n"
     ]
    }
   ],
   "source": [
    "train, val, test = np.split(df.sample(frac=1), [int(0.8*len(df)), int(0.9*len(df))])"
   ]
  },
  {
   "cell_type": "code",
   "execution_count": 104,
   "metadata": {},
   "outputs": [],
   "source": [
    "def df_to_dataset(dataframe, shuffle=True, batch_size=32):\n",
    "    df = dataframe.copy()\n",
    "    labels = df.pop('label')\n",
    "    \n",
    "    # Clean the descriptions - replace NaN with empty string and ensure all items are strings\n",
    "    descriptions = df[\"description\"].fillna(\"\").astype(str).tolist()\n",
    "    \n",
    "    # Convert to tensors\n",
    "    ds = tf.data.Dataset.from_tensor_slices((descriptions, labels))\n",
    "    \n",
    "    if shuffle:\n",
    "        ds = ds.shuffle(buffer_size=len(dataframe))\n",
    "    ds = ds.batch(batch_size)\n",
    "    return ds"
   ]
  },
  {
   "cell_type": "code",
   "execution_count": 105,
   "metadata": {},
   "outputs": [],
   "source": [
    "train_data = df_to_dataset(train)\n",
    "valid_data = df_to_dataset(val)\n",
    "test_data = df_to_dataset(test)"
   ]
  },
  {
   "cell_type": "markdown",
   "metadata": {},
   "source": [
    "# Embedding + Model"
   ]
  },
  {
   "cell_type": "code",
   "execution_count": 106,
   "metadata": {},
   "outputs": [],
   "source": [
    "embedding = \"https://tfhub.dev/google/nnlm-en-dim50/2\"\n",
    "hub_layer = hub.KerasLayer(embedding, dtype=tf.string, trainable=True)"
   ]
  },
  {
   "cell_type": "code",
   "execution_count": 107,
   "metadata": {},
   "outputs": [
    {
     "data": {
      "text/plain": [
       "<tf.Tensor: shape=(32, 50), dtype=float32, numpy=\n",
       "array([[ 5.4805279e-01,  4.1044345e-01, -4.7965044e-01, ...,\n",
       "         1.0951974e-02, -7.5654761e-04,  5.0403136e-01],\n",
       "       [ 6.3806736e-01, -5.5850830e-02, -2.4336921e-01, ...,\n",
       "        -1.0388619e-01,  1.2367214e-01,  3.6471960e-01],\n",
       "       [ 4.2376289e-01, -5.3033546e-02, -2.3946795e-01, ...,\n",
       "        -2.1480934e-01, -2.2861262e-01,  2.7091622e-01],\n",
       "       ...,\n",
       "       [ 5.5776006e-01, -8.1346422e-02, -5.8807403e-01, ...,\n",
       "        -2.7066451e-02, -7.7199675e-02,  5.6293231e-01],\n",
       "       [ 3.0625319e-01,  2.0786552e-01, -5.7578969e-01, ...,\n",
       "        -2.3395424e-01,  7.7703938e-02,  2.0679744e-01],\n",
       "       [ 8.1542611e-01,  6.6004992e-02, -3.4303078e-01, ...,\n",
       "        -2.6594993e-01, -7.0961833e-04,  5.5723315e-01]], dtype=float32)>"
      ]
     },
     "execution_count": 107,
     "metadata": {},
     "output_type": "execute_result"
    }
   ],
   "source": [
    "hub_layer(list(train_data)[0][0])"
   ]
  },
  {
   "cell_type": "code",
   "execution_count": 108,
   "metadata": {},
   "outputs": [],
   "source": [
    "import tf_keras\n",
    "\n",
    "model = tf_keras.Sequential([\n",
    "    hub_layer,\n",
    "    tf_keras.layers.Dense(16, activation='relu'),\n",
    "    tf_keras.layers.Dropout(0.4),\n",
    "    tf_keras.layers.Dense(16, activation='relu'),\n",
    "    tf_keras.layers.Dropout(0.4),\n",
    "    tf_keras.layers.Dense(1, activation='sigmoid')\n",
    "])"
   ]
  },
  {
   "cell_type": "code",
   "execution_count": 109,
   "metadata": {},
   "outputs": [],
   "source": [
    "model.compile(optimizer='adam',\n",
    "              loss=tf.keras.losses.BinaryCrossentropy(),\n",
    "              metrics=['accuracy'])"
   ]
  },
  {
   "cell_type": "code",
   "execution_count": 110,
   "metadata": {},
   "outputs": [
    {
     "name": "stdout",
     "output_type": "stream",
     "text": [
      "7/7 [==============================] - 0s 982us/step - loss: 0.7620 - accuracy: 0.4950\n"
     ]
    },
    {
     "data": {
      "text/plain": [
       "[0.7619806528091431, 0.4950000047683716]"
      ]
     },
     "execution_count": 110,
     "metadata": {},
     "output_type": "execute_result"
    }
   ],
   "source": [
    "model.evaluate(train_data)"
   ]
  },
  {
   "cell_type": "code",
   "execution_count": 111,
   "metadata": {},
   "outputs": [
    {
     "name": "stdout",
     "output_type": "stream",
     "text": [
      "1/1 [==============================] - 0s 11ms/step - loss: 0.8629 - accuracy: 0.3600\n"
     ]
    },
    {
     "data": {
      "text/plain": [
       "[0.8628643751144409, 0.36000001430511475]"
      ]
     },
     "execution_count": 111,
     "metadata": {},
     "output_type": "execute_result"
    }
   ],
   "source": [
    "model.evaluate(valid_data)"
   ]
  },
  {
   "cell_type": "code",
   "execution_count": 112,
   "metadata": {},
   "outputs": [],
   "source": [
    "# history = model.fit(train_data, epochs=3, validation_data=valid_data)"
   ]
  },
  {
   "cell_type": "code",
   "execution_count": 113,
   "metadata": {},
   "outputs": [],
   "source": [
    "# \n"
   ]
  },
  {
   "cell_type": "code",
   "execution_count": 114,
   "metadata": {},
   "outputs": [
    {
     "name": "stdout",
     "output_type": "stream",
     "text": [
      "1/1 [==============================] - 0s 8ms/step - loss: 0.6841 - accuracy: 0.4800\n"
     ]
    },
    {
     "data": {
      "text/plain": [
       "[0.6841084361076355, 0.47999998927116394]"
      ]
     },
     "execution_count": 114,
     "metadata": {},
     "output_type": "execute_result"
    }
   ],
   "source": [
    "model.evaluate(test_data)"
   ]
  },
  {
   "cell_type": "code",
   "execution_count": 115,
   "metadata": {},
   "outputs": [],
   "source": [
    "from sklearn.model_selection import KFold\n",
    "\n",
    "def cross_validate_confusion_matrix(df, n_splits=5):\n",
    "    kf = KFold(n_splits=n_splits, shuffle=True, random_state=42)\n",
    "    all_true = []\n",
    "    all_pred = []\n",
    "    \n",
    "    for fold, (train_idx, val_idx) in enumerate(kf.split(df)):\n",
    "        # Split the data\n",
    "        train = df.iloc[train_idx]\n",
    "        val = df.iloc[val_idx]\n",
    "        \n",
    "        # Create datasets\n",
    "        train_data = df_to_dataset(train)\n",
    "        val_data = df_to_dataset(val)\n",
    "        \n",
    "        # Train model\n",
    "        model = tf_keras.Sequential([\n",
    "            hub_layer,\n",
    "            tf_keras.layers.Dense(16, activation='relu'),\n",
    "            tf_keras.layers.Dropout(0.4),\n",
    "            tf_keras.layers.Dense(16, activation='relu'),\n",
    "            tf_keras.layers.Dropout(0.4),\n",
    "            tf_keras.layers.Dense(1, activation='sigmoid')\n",
    "        ])\n",
    "        \n",
    "        model.compile(optimizer='adam',\n",
    "                     loss=tf.keras.losses.BinaryCrossentropy(),\n",
    "                     metrics=['accuracy'])\n",
    "        \n",
    "        model.fit(train_data, epochs=3, verbose=0)\n",
    "        \n",
    "        # Get predictions for this fold's validation set\n",
    "        val_predictions = model.predict(val_data, verbose=0)\n",
    "        val_predictions = (val_predictions > 0.5).astype(int)\n",
    "        \n",
    "        # Store true labels and predictions\n",
    "        val_labels = np.concatenate([y for x, y in val_data], axis=0)\n",
    "        all_true.extend(val_labels)\n",
    "        all_pred.extend(val_predictions)\n",
    "    \n",
    "    return np.array(all_true), np.array(all_pred)"
   ]
  },
  {
   "cell_type": "code",
   "execution_count": 116,
   "metadata": {},
   "outputs": [],
   "source": [
    "import seaborn as sns\n",
    "from sklearn.metrics import confusion_matrix\n",
    "def plot_confusion_matrix(true_labels, predictions, title=\"Model Confusion Matrix\"):\n",
    "    # Create confusion matrix\n",
    "    cm = confusion_matrix(true_labels, predictions)\n",
    "\n",
    "    # Plot confusion matrix\n",
    "    plt.figure(figsize=(8, 6))\n",
    "    sns.heatmap(cm, annot=True, fmt='d', cmap='Blues')\n",
    "    plt.title(title)\n",
    "    plt.xlabel('Predicted Label')\n",
    "    plt.ylabel('True Label')\n",
    "    plt.show()\n",
    "\n",
    "    # Calculate and print metrics\n",
    "    tn, fp, fn, tp = cm.ravel()\n",
    "    accuracy = (tp + tn) / (tp + tn + fp + fn)\n",
    "    precision = tp / (tp + fp) if (tp + fp) > 0 else 0\n",
    "    recall = tp / (tp + fn) if (tp + fn) > 0 else 0\n",
    "    f1 = 2 * (precision * recall) / (precision + recall) if (precision + recall) > 0 else 0\n",
    "\n",
    "    print(f\"\\nModel Metrics:\")\n",
    "    print(f\"Accuracy: {accuracy:.3f}\")\n",
    "    print(f\"Precision: {precision:.3f}\")\n",
    "    print(f\"Recall: {recall:.3f}\")\n",
    "    print(f\"F1 Score: {f1:.3f}\")"
   ]
  },
  {
   "cell_type": "code",
   "execution_count": 117,
   "metadata": {},
   "outputs": [
    {
     "data": {
      "image/png": "[encoded data removed]",
      "text/plain": [
       "<Figure size 800x600 with 2 Axes>"
      ]
     },
     "metadata": {},
     "output_type": "display_data"
    },
    {
     "name": "stdout",
     "output_type": "stream",
     "text": [
      "\n",
      "Model Metrics:\n",
      "Accuracy: 0.504\n",
      "Precision: 0.503\n",
      "Recall: 0.704\n",
      "F1 Score: 0.587\n"
     ]
    }
   ],
   "source": [
    "# Get cross-validation results\n",
    "true_labels, predictions = cross_validate_confusion_matrix(df)\n",
    "\n",
    "# Plot confusion matrix for all data\n",
    "plot_confusion_matrix(true_labels, predictions, \"Cross-Validated Model Confusion Matrix\")"
   ]
  },
  {
   "cell_type": "markdown",
   "metadata": {},
   "source": [
    "# LSTM"
   ]
  },
  {
   "cell_type": "code",
   "execution_count": 118,
   "metadata": {},
   "outputs": [],
   "source": [
    "def cross_validate_lstm_confusion_matrix(df, n_splits=5):\n",
    "    kf = KFold(n_splits=n_splits, shuffle=True, random_state=42)\n",
    "    all_true = []\n",
    "    all_pred = []\n",
    "    \n",
    "    for fold, (train_idx, val_idx) in enumerate(kf.split(df)):\n",
    "        # Split the data\n",
    "        train = df.iloc[train_idx]\n",
    "        val = df.iloc[val_idx]\n",
    "        \n",
    "        # Create datasets\n",
    "        train_data = df_to_dataset(train)\n",
    "        val_data = df_to_dataset(val)\n",
    "        \n",
    "        # Create and compile model\n",
    "        model = tf.keras.Sequential([\n",
    "            encoder,\n",
    "            tf.keras.layers.Embedding(\n",
    "                input_dim=len(encoder.get_vocabulary()),\n",
    "                output_dim=32,\n",
    "                mask_zero=True\n",
    "            ),\n",
    "            tf.keras.layers.LSTM(32, use_cudnn=False),  # Disable cuDNN\n",
    "            tf.keras.layers.Dense(32, activation='relu'),\n",
    "            tf.keras.layers.Dropout(0.4),\n",
    "            tf.keras.layers.Dense(1, activation='sigmoid')\n",
    "        ])\n",
    "\n",
    "        model.compile(optimizer=tf.keras.optimizers.Adam(learning_rate=0.001),\n",
    "                     loss=tf.keras.losses.BinaryCrossentropy(),\n",
    "                     metrics=['accuracy'])\n",
    "        \n",
    "        # Train model\n",
    "        model.fit(train_data, epochs=5, verbose=0)\n",
    "        \n",
    "        # Get predictions for this fold's validation set\n",
    "        val_predictions = model.predict(val_data, verbose=0)\n",
    "        val_predictions = (val_predictions > 0.5).astype(int)\n",
    "        \n",
    "        # Store true labels and predictions\n",
    "        val_labels = np.concatenate([y for x, y in val_data], axis=0)\n",
    "        all_true.extend(val_labels)\n",
    "        all_pred.extend(val_predictions)\n",
    "    \n",
    "    return np.array(all_true), np.array(all_pred)"
   ]
  },
  {
   "cell_type": "code",
   "execution_count": 119,
   "metadata": {},
   "outputs": [],
   "source": [
    "encoder = tf.keras.layers.TextVectorization(max_tokens=600)\n",
    "encoder.adapt(train_data.map(lambda text, label: text))"
   ]
  },
  {
   "cell_type": "code",
   "execution_count": 120,
   "metadata": {},
   "outputs": [
    {
     "data": {
      "text/plain": [
       "array(['', '[UNK]', 'the', 'you', 'to', 'and', 'a', 'i', 'it', 'of', 'in',\n",
       "       'is', 'for', 'on', 'we', 'this', 'your', 'that', 'its', 'with'],\n",
       "      dtype='<U12')"
      ]
     },
     "execution_count": 120,
     "metadata": {},
     "output_type": "execute_result"
    }
   ],
   "source": [
    "vocab = np.array(encoder.get_vocabulary())\n",
    "vocab[:20]"
   ]
  },
  {
   "cell_type": "code",
   "execution_count": 121,
   "metadata": {},
   "outputs": [],
   "source": [
    "model = tf.keras.Sequential([\n",
    "    encoder,\n",
    "    tf.keras.layers.Embedding(\n",
    "        input_dim=len(encoder.get_vocabulary()),\n",
    "        output_dim=32,\n",
    "        mask_zero=True\n",
    "    ),\n",
    "    tf.keras.layers.LSTM(32, use_cudnn=False),  # Disable cuDNN\n",
    "    tf.keras.layers.Dense(32, activation='relu'),\n",
    "    tf.keras.layers.Dropout(0.4),\n",
    "    tf.keras.layers.Dense(1, activation='sigmoid')\n",
    "])\n",
    "\n",
    "model.compile(optimizer=tf.keras.optimizers.Adam(learning_rate=0.001),\n",
    "              loss=tf.keras.losses.BinaryCrossentropy(),\n",
    "              metrics=['accuracy'])"
   ]
  },
  {
   "cell_type": "code",
   "execution_count": 122,
   "metadata": {},
   "outputs": [],
   "source": [
    "model.compile(optimizer=tf.keras.optimizers.Adam(learning_rate=0.001),\n",
    "              loss=tf.keras.losses.BinaryCrossentropy(),\n",
    "              metrics=['accuracy'])"
   ]
  },
  {
   "cell_type": "code",
   "execution_count": 123,
   "metadata": {},
   "outputs": [
    {
     "name": "stdout",
     "output_type": "stream",
     "text": [
      "\u001b[1m7/7\u001b[0m \u001b[32m━━━━━━━━━━━━━━━━━━━━\u001b[0m\u001b[37m\u001b[0m \u001b[1m0s\u001b[0m 22ms/step - accuracy: 0.4942 - loss: 0.6930\n",
      "\u001b[1m1/1\u001b[0m \u001b[32m━━━━━━━━━━━━━━━━━━━━\u001b[0m\u001b[37m\u001b[0m \u001b[1m0s\u001b[0m 15ms/step - accuracy: 0.5200 - loss: 0.6926\n"
     ]
    },
    {
     "data": {
      "text/plain": [
       "[0.6926451921463013, 0.5199999809265137]"
      ]
     },
     "execution_count": 123,
     "metadata": {},
     "output_type": "execute_result"
    }
   ],
   "source": [
    "model.evaluate(train_data)\n",
    "model.evaluate(valid_data)"
   ]
  },
  {
   "cell_type": "code",
   "execution_count": 124,
   "metadata": {},
   "outputs": [
    {
     "name": "stdout",
     "output_type": "stream",
     "text": [
      "Epoch 1/5\n",
      "\u001b[1m7/7\u001b[0m \u001b[32m━━━━━━━━━━━━━━━━━━━━\u001b[0m\u001b[37m\u001b[0m \u001b[1m1s\u001b[0m 50ms/step - accuracy: 0.5055 - loss: 0.6927 - val_accuracy: 0.4400 - val_loss: 0.6937\n",
      "Epoch 2/5\n",
      "\u001b[1m7/7\u001b[0m \u001b[32m━━━━━━━━━━━━━━━━━━━━\u001b[0m\u001b[37m\u001b[0m \u001b[1m0s\u001b[0m 38ms/step - accuracy: 0.6112 - loss: 0.6909 - val_accuracy: 0.3600 - val_loss: 0.6960\n",
      "Epoch 3/5\n",
      "\u001b[1m7/7\u001b[0m \u001b[32m━━━━━━━━━━━━━━━━━━━━\u001b[0m\u001b[37m\u001b[0m \u001b[1m0s\u001b[0m 42ms/step - accuracy: 0.6210 - loss: 0.6875 - val_accuracy: 0.3600 - val_loss: 0.6992\n",
      "Epoch 4/5\n",
      "\u001b[1m7/7\u001b[0m \u001b[32m━━━━━━━━━━━━━━━━━━━━\u001b[0m\u001b[37m\u001b[0m \u001b[1m0s\u001b[0m 40ms/step - accuracy: 0.6859 - loss: 0.6810 - val_accuracy: 0.3600 - val_loss: 0.7033\n",
      "Epoch 5/5\n",
      "\u001b[1m7/7\u001b[0m \u001b[32m━━━━━━━━━━━━━━━━━━━━\u001b[0m\u001b[37m\u001b[0m \u001b[1m0s\u001b[0m 37ms/step - accuracy: 0.6592 - loss: 0.6775 - val_accuracy: 0.4000 - val_loss: 0.7046\n"
     ]
    }
   ],
   "source": [
    "history = model.fit(train_data, epochs=5, validation_data=valid_data)"
   ]
  },
  {
   "cell_type": "code",
   "execution_count": 125,
   "metadata": {},
   "outputs": [
    {
     "name": "stdout",
     "output_type": "stream",
     "text": [
      "\u001b[1m1/1\u001b[0m \u001b[32m━━━━━━━━━━━━━━━━━━━━\u001b[0m\u001b[37m\u001b[0m \u001b[1m0s\u001b[0m 10ms/step - accuracy: 0.4000 - loss: 0.7016\n"
     ]
    },
    {
     "data": {
      "text/plain": [
       "[0.7016420960426331, 0.4000000059604645]"
      ]
     },
     "execution_count": 125,
     "metadata": {},
     "output_type": "execute_result"
    }
   ],
   "source": [
    "model.evaluate(test_data)"
   ]
  },
  {
   "cell_type": "code",
   "execution_count": 126,
   "metadata": {},
   "outputs": [
    {
     "data": {
      "image/png": "[encoded data removed]",
      "text/plain": [
       "<Figure size 800x600 with 2 Axes>"
      ]
     },
     "metadata": {},
     "output_type": "display_data"
    },
    {
     "name": "stdout",
     "output_type": "stream",
     "text": [
      "\n",
      "Model Metrics:\n",
      "Accuracy: 0.516\n",
      "Precision: 0.520\n",
      "Recall: 0.416\n",
      "F1 Score: 0.462\n"
     ]
    }
   ],
   "source": [
    "# Get cross-validation results for LSTM\n",
    "true_labels_lstm, predictions_lstm = cross_validate_lstm_confusion_matrix(df)\n",
    "\n",
    "# Plot confusion matrix for all data\n",
    "plot_confusion_matrix(true_labels_lstm, predictions_lstm, \"Cross-Validated LSTM Model Confusion Matrix\")"
   ]
  },
  {
   "cell_type": "markdown",
   "metadata": {},
   "source": [
    "Fazit"
   ]
  }
 ],
 "metadata": {
  "kernelspec": {
   "display_name": ".venv",
   "language": "python",
   "name": "python3"
  },
  "language_info": {
   "codemirror_mode": {
    "name": "ipython",
    "version": 3
   },
   "file_extension": ".py",
   "mimetype": "text/x-python",
   "name": "python",
   "nbconvert_exporter": "python",
   "pygments_lexer": "ipython3",
   "version": "3.9.18"
  }
 },
 "nbformat": 4,
 "nbformat_minor": 2
}
